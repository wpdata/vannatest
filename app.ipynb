{
 "cells": [
  {
   "cell_type": "code",
   "execution_count": null,
   "metadata": {},
   "outputs": [],
   "source": [
    "!pip install vanna\n",
    "import vanna\n",
    "from vanna.remote import VannaDefault\n",
    "vn = VannaDefault(model='chinook', api_key=vanna.get_api_key('my-email@example.com'))\n",
    "vn.connect_to_sqlite('https://vanna.ai/Chinook.sqlite')\n",
    "vn.ask(\"What are the top 10 albums by sales?\")"
   ]
  },
  {
   "cell_type": "code",
   "execution_count": null,
   "metadata": {},
   "outputs": [],
   "source": [
    "from vanna.flask import VannaFlaskApp\n",
    "VannaFlaskApp(vn).run()"
   ]
  },
  {
   "cell_type": "markdown",
   "metadata": {},
   "source": [
    "## Here's what you'll get\n",
    "![vanna-flask](https://vanna.ai/blog/img/vanna-flask.gif)"
   ]
  },
  {
   "cell_type": "markdown",
   "metadata": {},
   "source": []
  }
 ],
 "metadata": {
  "language_info": {
   "name": "python"
  }
 },
 "nbformat": 4,
 "nbformat_minor": 2
}
